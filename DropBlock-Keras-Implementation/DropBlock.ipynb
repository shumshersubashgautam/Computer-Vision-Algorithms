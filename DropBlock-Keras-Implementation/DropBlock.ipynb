{
 "cells": [
  {
   "cell_type": "markdown",
   "metadata": {},
   "source": [
    "# DropBlock: A regularization method for convolutional networks\n",
    "### Paper Reproduction"
   ]
  },
  {
   "cell_type": "code",
   "execution_count": 104,
   "metadata": {},
   "outputs": [
    {
     "name": "stderr",
     "output_type": "stream",
     "text": [
      "Using TensorFlow backend.\n"
     ]
    }
   ],
   "source": [
    "from keras import backend as K\n",
    "from keras.engine.topology import Layer\n",
    "from scipy.stats import bernoulli\n",
    "import copy"
   ]
  },
  {
   "cell_type": "code",
   "execution_count": 105,
   "metadata": {},
   "outputs": [],
   "source": [
    "class DropBlock(Layer):\n",
    "    \"\"\"\n",
    "    Regularization Technique for Convolutional Layers.\n",
    "    \n",
    "    Pseudocode:\n",
    "    1: Input:output activations of a layer (A), block_size, γ, mode\n",
    "    2: if mode == Inference then\n",
    "    3: return A\n",
    "    4: end if\n",
    "    5: Randomly sample mask M: Mi,j ∼ Bernoulli(γ)\n",
    "    6: For each zero position Mi,j , create a spatial square mask with the center being Mi,j , the width,\n",
    "        height being block_size and set all the values of M in the square to be zero (see Figure 2).\n",
    "    7: Apply the mask: A = A × M\n",
    "    8: Normalize the features: A = A × count(M)/count_ones(M)\n",
    "    \n",
    "    # Arguments\n",
    "        block_size: A Python integer. The size of the block to be dropped.\n",
    "        gamma: float between 0 and 1. controls how many activation units to drop.\n",
    "    # References\n",
    "        - [DropBlock: A regularization method for convolutional networks](\n",
    "           https://arxiv.org/pdf/1810.12890v1.pdf)\n",
    "    \"\"\"\n",
    "    def __init__(self, block_size, keep_prob, **kwargs):\n",
    "        super(DropBlock, self).__init__(**kwargs)\n",
    "        self.block_size = block_size\n",
    "        self.keep_prob = keep_prob\n",
    "\n",
    "    def call(self, x, training=None):\n",
    "        \n",
    "        '''\n",
    "        MAKE SURE TO UNCOMMENT BELOW FOR ACTUAL USE\n",
    "        '''\n",
    "        # During inference, we do not Drop Blocks. (Similar to DropOut)\n",
    "#         if training == None:\n",
    "#             return x\n",
    "        \n",
    "        # Calculate Gamma\n",
    "        feat_size = int(x.shape[-1])\n",
    "        gamma = ((1-self.keep_prob)/(self.block_size**2)) * ((feat_size**2) / ((feat_size-self.block_size+1)**2))\n",
    "        \n",
    "        padding = self.block_size//2\n",
    "        \n",
    "        # Randomly sample mask\n",
    "        sample = bernoulli.rvs(size=(feat_size-(padding*2), feat_size-(padding*2)),p=gamma)\n",
    "        \n",
    "        # The above code creates a matrix of zeros and samples ones from the distribution\n",
    "        # We would like to flip all of these values\n",
    "        sample = 1-sample\n",
    "    \n",
    "        # Pad the mask with ones\n",
    "        sample = np.pad(sample, pad_width=padding, mode='constant', constant_values=1)\n",
    "    \n",
    "        # For each 0, create spatial square mask of shape (block_size x block_size)\n",
    "        mask = copy.copy(sample)\n",
    "        for i in range(feat_size):\n",
    "            for j in range(feat_size):\n",
    "                if sample[i, j]==0:\n",
    "                    mask[i-padding : i+padding+1, j-padding : j+padding+1] = 0\n",
    "        \n",
    "        mask = mask.reshape((1, feat_size, feat_size))\n",
    "        \n",
    "        # Apply the mask\n",
    "        x = x * np.repeat(mask, x.shape[1], 0)\n",
    "        \n",
    "        # Normalize the features\n",
    "        count = np.prod(mask.shape)\n",
    "        count_ones = np.count_nonzero(mask == 1)\n",
    "        x = x * count / count_ones\n",
    "        \n",
    "        return x\n",
    "        \n",
    "    def get_config(self):\n",
    "        config = {'block_size': self.block_size,\n",
    "                  'gamma': self.gamma,\n",
    "                  'seed': self.seed}\n",
    "        base_config = super(DropBlock, self).get_config()\n",
    "        return dict(list(base_config.items()) + list(config.items()))\n",
    "        \n",
    "    def compute_output_shape(self, input_shape):\n",
    "        return input_shape"
   ]
  },
  {
   "cell_type": "markdown",
   "metadata": {},
   "source": [
    "# Test"
   ]
  },
  {
   "cell_type": "code",
   "execution_count": 106,
   "metadata": {},
   "outputs": [],
   "source": [
    "from keras.models import Model\n",
    "from keras.layers import Input, Dense"
   ]
  },
  {
   "cell_type": "code",
   "execution_count": 107,
   "metadata": {},
   "outputs": [],
   "source": [
    "a = Input(shape=(64,10,10))\n",
    "b = DropBlock(block_size=5, keep_prob=.7)(a)\n",
    "model = Model(inputs=a, outputs=b)"
   ]
  },
  {
   "cell_type": "code",
   "execution_count": 108,
   "metadata": {},
   "outputs": [
    {
     "data": {
      "text/plain": [
       "array([[1.3333334, 1.3333334, 1.3333334, 1.3333334, 1.3333334, 1.3333334,\n",
       "        1.3333334, 1.3333334, 1.3333334, 1.3333334],\n",
       "       [1.3333334, 1.3333334, 1.3333334, 1.3333334, 1.3333334, 1.3333334,\n",
       "        1.3333334, 1.3333334, 1.3333334, 1.3333334],\n",
       "       [1.3333334, 1.3333334, 1.3333334, 1.3333334, 1.3333334, 1.3333334,\n",
       "        1.3333334, 1.3333334, 1.3333334, 1.3333334],\n",
       "       [1.3333334, 1.3333334, 1.3333334, 1.3333334, 0.       , 0.       ,\n",
       "        0.       , 0.       , 0.       , 1.3333334],\n",
       "       [1.3333334, 1.3333334, 1.3333334, 1.3333334, 0.       , 0.       ,\n",
       "        0.       , 0.       , 0.       , 1.3333334],\n",
       "       [1.3333334, 1.3333334, 1.3333334, 1.3333334, 0.       , 0.       ,\n",
       "        0.       , 0.       , 0.       , 1.3333334],\n",
       "       [1.3333334, 1.3333334, 1.3333334, 1.3333334, 0.       , 0.       ,\n",
       "        0.       , 0.       , 0.       , 1.3333334],\n",
       "       [1.3333334, 1.3333334, 1.3333334, 1.3333334, 0.       , 0.       ,\n",
       "        0.       , 0.       , 0.       , 1.3333334],\n",
       "       [1.3333334, 1.3333334, 1.3333334, 1.3333334, 1.3333334, 1.3333334,\n",
       "        1.3333334, 1.3333334, 1.3333334, 1.3333334],\n",
       "       [1.3333334, 1.3333334, 1.3333334, 1.3333334, 1.3333334, 1.3333334,\n",
       "        1.3333334, 1.3333334, 1.3333334, 1.3333334]], dtype=float32)"
      ]
     },
     "execution_count": 108,
     "metadata": {},
     "output_type": "execute_result"
    }
   ],
   "source": [
    "output = model.predict(np.ones([1,64,10,10]))\n",
    "\n",
    "# Example of what a filter would look like after dropblock\n",
    "output[0,1,:,:]"
   ]
  },
  {
   "cell_type": "code",
   "execution_count": null,
   "metadata": {},
   "outputs": [],
   "source": []
  }
 ],
 "metadata": {
  "kernelspec": {
   "display_name": "Python 3",
   "language": "python",
   "name": "python3"
  },
  "language_info": {
   "codemirror_mode": {
    "name": "ipython",
    "version": 3
   },
   "file_extension": ".py",
   "mimetype": "text/x-python",
   "name": "python",
   "nbconvert_exporter": "python",
   "pygments_lexer": "ipython3",
   "version": "3.5.6"
  }
 },
 "nbformat": 4,
 "nbformat_minor": 2
}
